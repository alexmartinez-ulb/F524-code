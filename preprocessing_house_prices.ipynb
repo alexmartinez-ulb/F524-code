{
  "nbformat": 4,
  "nbformat_minor": 0,
  "metadata": {
    "colab": {
      "provenance": []
    },
    "kernelspec": {
      "name": "python3",
      "display_name": "Python 3"
    },
    "language_info": {
      "name": "python"
    }
  },
  "cells": [
    {
      "cell_type": "code",
      "execution_count": 1,
      "metadata": {
        "colab": {
          "base_uri": "https://localhost:8080/"
        },
        "id": "BY6qE72vK-0m",
        "outputId": "e4bf0b25-aeea-4652-da5f-33d060e761be"
      },
      "outputs": [
        {
          "output_type": "stream",
          "name": "stdout",
          "text": [
            "Mounted at /content/drive\n"
          ]
        }
      ],
      "source": [
        "import pandas as pd\n",
        "import numpy as np\n",
        "from sklearn.model_selection import train_test_split\n",
        "from sklearn.preprocessing import StandardScaler\n",
        "from sklearn.impute import SimpleImputer\n",
        "from sklearn.pipeline import Pipeline\n",
        "from sklearn.compose import ColumnTransformer\n",
        "from sklearn.preprocessing import OneHotEncoder\n",
        "from google.colab import drive\n",
        "drive.mount('/content/drive')\n",
        "\n",
        "\n",
        "import zipfile\n",
        "zip_path = \"/content/drive/MyDrive/house-prices-advanced-regression-techniques.zip\"\n",
        "extract_dir = \"/content/house-prices-data\"\n",
        "\n",
        "with zipfile.ZipFile(zip_path, 'r') as zip_ref:\n",
        "    zip_ref.extractall(extract_dir)\n",
        "df = pd.read_csv(\"/content/house-prices-data/train.csv\")\n",
        "\n",
        "# delete useless columns\n",
        "df.drop(columns=[\"Id\"], inplace=True)\n",
        "\n",
        "# Split features and target\n",
        "y = df[\"SalePrice\"]\n",
        "X = df.drop(columns=[\"SalePrice\"])\n",
        "\n",
        "# Split integer and string/bool columns\n",
        "num_cols = X.select_dtypes(include=[\"int64\", \"float64\"]).columns\n",
        "cat_cols = X.select_dtypes(include=[\"object\"]).columns\n",
        "\n",
        "# Preprocessing pipeline\n",
        "num_pipeline = Pipeline([\n",
        "    (\"imputer\", SimpleImputer(strategy=\"median\")),\n",
        "    (\"scaler\", StandardScaler())\n",
        "])\n",
        "\n",
        "cat_pipeline = Pipeline([\n",
        "    (\"imputer\", SimpleImputer(strategy=\"most_frequent\")),\n",
        "    (\"onehot\", OneHotEncoder(handle_unknown=\"ignore\", sparse_output=False))\n",
        "])\n",
        "\n",
        "preprocessor = ColumnTransformer([\n",
        "    (\"num\", num_pipeline, num_cols),\n",
        "    (\"cat\", cat_pipeline, cat_cols)\n",
        "])\n",
        "\n",
        "# Applies the pretreament\n",
        "X_preprocessed = preprocessor.fit_transform(X)\n"
      ]
    },
    {
      "cell_type": "code",
      "source": [
        "\n",
        "num_features = num_cols\n",
        "\n",
        "# Get the name of the columns that got hot encoded\n",
        "cat_features = preprocessor.named_transformers_[\"cat\"][\"onehot\"].get_feature_names_out(cat_cols)\n",
        "\n",
        "# Combine the both type of columns\n",
        "feature_names = np.concatenate([num_features, cat_features])\n",
        "# Construct a full dataset with the real column names\n",
        "X_df = pd.DataFrame(X_preprocessed, columns=feature_names)\n",
        "X_df[\"SalePrice\"] = y.values  #Add the target as the final column\n",
        "\n",
        "# Save to MyDrive\n",
        "X_df.to_csv(\"/content/drive/MyDrive/house_prices_preprocessed.csv\", index=False)"
      ],
      "metadata": {
        "id": "nKkU9pGgOeFZ"
      },
      "execution_count": 2,
      "outputs": []
    },
    {
      "cell_type": "code",
      "source": [
        "print(\"Stats of Saleprice:\")\n",
        "print(y.describe())"
      ],
      "metadata": {
        "id": "vS5-tmpvQ5bt",
        "outputId": "9b8725fa-27b3-487d-dcb5-9afce6f34e0a",
        "colab": {
          "base_uri": "https://localhost:8080/"
        }
      },
      "execution_count": 3,
      "outputs": [
        {
          "output_type": "stream",
          "name": "stdout",
          "text": [
            "Stats of Saleprice:\n",
            "count      1460.000000\n",
            "mean     180921.195890\n",
            "std       79442.502883\n",
            "min       34900.000000\n",
            "25%      129975.000000\n",
            "50%      163000.000000\n",
            "75%      214000.000000\n",
            "max      755000.000000\n",
            "Name: SalePrice, dtype: float64\n"
          ]
        }
      ]
    }
  ]
}
