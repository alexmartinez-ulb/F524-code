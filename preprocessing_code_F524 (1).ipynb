{
  "nbformat": 4,
  "nbformat_minor": 0,
  "metadata": {
    "colab": {
      "provenance": []
    },
    "kernelspec": {
      "name": "python3",
      "display_name": "Python 3"
    },
    "language_info": {
      "name": "python"
    }
  },
  "cells": [
    {
      "cell_type": "code",
      "execution_count": 1,
      "metadata": {
        "colab": {
          "base_uri": "https://localhost:8080/"
        },
        "id": "BY6qE72vK-0m",
        "outputId": "3c23b474-dbe0-403f-e9e3-b52feeca049e"
      },
      "outputs": [
        {
          "output_type": "stream",
          "name": "stdout",
          "text": [
            "Mounted at /content/drive\n"
          ]
        }
      ],
      "source": [
        "import pandas as pd\n",
        "import numpy as np\n",
        "from sklearn.model_selection import train_test_split\n",
        "from sklearn.preprocessing import StandardScaler\n",
        "from sklearn.impute import SimpleImputer\n",
        "from sklearn.pipeline import Pipeline\n",
        "from sklearn.compose import ColumnTransformer\n",
        "from sklearn.preprocessing import OneHotEncoder\n",
        "from sklearn.base import BaseEstimator, TransformerMixin\n",
        "from google.colab import drive\n",
        "import zipfile\n",
        "─\n",
        "drive.mount('/content/drive')\n",
        "\n",
        "zip_path = \"/content/drive/MyDrive/house-prices-advanced-regression-techniques.zip\"\n",
        "extract_dir = \"/content/house-prices-data\"\n",
        "\n",
        "with zipfile.ZipFile(zip_path, 'r') as zip_ref:\n",
        "    zip_ref.extractall(extract_dir)\n",
        "# raw dataset\n",
        "df = pd.read_csv(\"/content/house-prices-data/train.csv\")\n",
        "\n",
        "# Delete Useless Columns\n",
        "df.drop(columns=[\"Id\"], inplace=True)\n",
        "\n",
        "# Split Features and Target\n",
        "y = df[\"SalePrice\"]\n",
        "X = df.drop(columns=[\"SalePrice\"])\n",
        "\n",
        "# Identify Column Types\n",
        "num_cols = X.select_dtypes(include=[\"int64\", \"float64\"]).columns\n",
        "cat_cols = X.select_dtypes(include=[\"object\"]).columns\n",
        "\n",
        "# Custom Transformer to Remove Outliers via IQR\n",
        "class OutlierRemover(BaseEstimator, TransformerMixin):\n",
        "    def __init__(self, factor=1.5):\n",
        "        self.factor = factor\n",
        "\n",
        "    def fit(self, X, y=None):\n",
        "        self.Q1_ = np.percentile(X, 25, axis=0)\n",
        "        self.Q3_ = np.percentile(X, 75, axis=0)\n",
        "        self.IQR_ = self.Q3_ - self.Q1_\n",
        "        self.lower_ = self.Q1_ - self.factor * self.IQR_\n",
        "        self.upper_ = self.Q3_ + self.factor * self.IQR_\n",
        "        return self\n",
        "\n",
        "    def transform(self, X):\n",
        "        return np.clip(X, self.lower_, self.upper_)\n",
        "\n",
        "# Preprocessing Pipelines\n",
        "num_pipeline = Pipeline([\n",
        "    (\"imputer\", SimpleImputer(strategy=\"median\")),\n",
        "    (\"outlier_remover\", OutlierRemover(factor=1.5)),\n",
        "    (\"scaler\", StandardScaler())\n",
        "])\n",
        "\n",
        "cat_pipeline = Pipeline([\n",
        "    (\"imputer\", SimpleImputer(strategy=\"most_frequent\")),\n",
        "    (\"onehot\", OneHotEncoder(handle_unknown=\"ignore\", sparse_output=False))\n",
        "])\n",
        "\n",
        "preprocessor = ColumnTransformer([\n",
        "    (\"num\", num_pipeline, num_cols),\n",
        "    (\"cat\", cat_pipeline, cat_cols)\n",
        "])\n",
        "\n",
        "# Apply Preprocessing\n",
        "X_preprocessed = preprocessor.fit_transform(X)\n"
      ]
    },
    {
      "cell_type": "code",
      "source": [
        "\n",
        "num_features = num_cols\n",
        "\n",
        "# Get the name of the columns that got hot encoded\n",
        "cat_features = preprocessor.named_transformers_[\"cat\"][\"onehot\"].get_feature_names_out(cat_cols)\n",
        "\n",
        "# Combine the both type of columns\n",
        "feature_names = np.concatenate([num_features, cat_features])\n",
        "# Construct a full dataset with the real column names\n",
        "X_df = pd.DataFrame(X_preprocessed, columns=feature_names)\n",
        "X_df[\"SalePrice\"] = y.values  #Add the target as the final column\n",
        "\n",
        "# Save to MyDrive\n",
        "X_df.to_csv(\"/content/drive/MyDrive/house_prices_preprocessed.csv\", index=False)"
      ],
      "metadata": {
        "id": "nKkU9pGgOeFZ"
      },
      "execution_count": 2,
      "outputs": []
    },
    {
      "cell_type": "code",
      "source": [
        "print(\"Stats of Saleprice:\")\n",
        "print(y.describe())"
      ],
      "metadata": {
        "id": "vS5-tmpvQ5bt",
        "outputId": "c0e5454f-49c0-4e11-e345-797400e00cdd",
        "colab": {
          "base_uri": "https://localhost:8080/"
        }
      },
      "execution_count": 4,
      "outputs": [
        {
          "output_type": "stream",
          "name": "stdout",
          "text": [
            "Stats of Saleprice:\n",
            "count      1460.000000\n",
            "mean     180921.195890\n",
            "std       79442.502883\n",
            "min       34900.000000\n",
            "25%      129975.000000\n",
            "50%      163000.000000\n",
            "75%      214000.000000\n",
            "max      755000.000000\n",
            "Name: SalePrice, dtype: float64\n"
          ]
        }
      ]
    }
  ]
}