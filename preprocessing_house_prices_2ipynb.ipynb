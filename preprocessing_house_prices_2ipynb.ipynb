{
  "nbformat": 4,
  "nbformat_minor": 0,
  "metadata": {
    "colab": {
      "provenance": []
    },
    "kernelspec": {
      "name": "python3",
      "display_name": "Python 3"
    },
    "language_info": {
      "name": "python"
    }
  },
  "cells": [
    {
      "cell_type": "code",
      "execution_count": 3,
      "metadata": {
        "colab": {
          "base_uri": "https://localhost:8080/"
        },
        "id": "W2Oyj4OiS5ZH",
        "outputId": "bde31e31-4527-4d8d-bb49-61639e590142"
      },
      "outputs": [
        {
          "output_type": "stream",
          "name": "stdout",
          "text": [
            "Drive already mounted at /content/drive; to attempt to forcibly remount, call drive.mount(\"/content/drive\", force_remount=True).\n"
          ]
        }
      ],
      "source": [
        "import pandas as pd\n",
        "import numpy as np\n",
        "from sklearn.model_selection import train_test_split\n",
        "from sklearn.preprocessing import StandardScaler\n",
        "from sklearn.impute import SimpleImputer\n",
        "from sklearn.pipeline import Pipeline\n",
        "from sklearn.compose import ColumnTransformer\n",
        "from sklearn.preprocessing import OneHotEncoder\n",
        "from sklearn.base import BaseEstimator, TransformerMixin\n",
        "from google.colab import drive\n",
        "import zipfile\n",
        "\n",
        "drive.mount('/content/drive')\n",
        "\n",
        "\n",
        "zip_path = \"/content/drive/MyDrive/house2_data.zip\"\n",
        "extract_dir = \"/content/house2_data_unzipped\"\n",
        "\n",
        "with zipfile.ZipFile(zip_path, 'r') as zip_ref:\n",
        "    zip_ref.extractall(extract_dir)\n",
        "# raw dataset\n",
        "df = pd.read_csv(\"/content/house2_data_unzipped/housing.csv\")\n",
        "\n",
        "\n",
        "# Rename target and remove NA rows\n",
        "df = df.dropna(subset=[\"median_house_value\"])\n",
        "y = df[\"median_house_value\"].values\n",
        "X = df.drop(columns=[\"median_house_value\"])\n",
        "\n",
        "# Identify Column Types\n",
        "num_cols = X.select_dtypes(include=[\"int64\", \"float64\"]).columns\n",
        "cat_cols = X.select_dtypes(include=[\"object\"]).columns\n",
        "\n",
        "# Custom Transformer: Outlier Removal (IQR)\n",
        "class OutlierRemover(BaseEstimator, TransformerMixin):\n",
        "    def __init__(self, factor=1.5):\n",
        "        self.factor = factor\n",
        "\n",
        "    def fit(self, X, y=None):\n",
        "        self.Q1_ = np.percentile(X, 25, axis=0)\n",
        "        self.Q3_ = np.percentile(X, 75, axis=0)\n",
        "        self.IQR_ = self.Q3_ - self.Q1_\n",
        "        self.lower_ = self.Q1_ - self.factor * self.IQR_\n",
        "        self.upper_ = self.Q3_ + self.factor * self.IQR_\n",
        "        return self\n",
        "\n",
        "    def transform(self, X):\n",
        "        return np.clip(X, self.lower_, self.upper_)\n",
        "\n",
        "# Preprocessing Pipelines\n",
        "num_pipeline = Pipeline([\n",
        "    (\"imputer\", SimpleImputer(strategy=\"median\")),\n",
        "    (\"outlier_remover\", OutlierRemover(factor=1.5)),\n",
        "    (\"scaler\", StandardScaler())\n",
        "])\n",
        "\n",
        "cat_pipeline = Pipeline([\n",
        "    (\"imputer\", SimpleImputer(strategy=\"most_frequent\")),\n",
        "    (\"onehot\", OneHotEncoder(handle_unknown=\"ignore\", sparse_output=False))\n",
        "])\n",
        "\n",
        "preprocessor = ColumnTransformer([\n",
        "    (\"num\", num_pipeline, num_cols),\n",
        "    (\"cat\", cat_pipeline, cat_cols)\n",
        "])\n",
        "X_preprocessed = preprocessor.fit_transform(X)"
      ]
    },
    {
      "cell_type": "code",
      "source": [
        "num_features = num_cols\n",
        "\n",
        "# Get the name of the columns that got hot encoded\n",
        "cat_features = preprocessor.named_transformers_[\"cat\"][\"onehot\"].get_feature_names_out(cat_cols)\n",
        "\n",
        "# Combine the both type of columns\n",
        "feature_names = np.concatenate([num_features, cat_features])\n",
        "# Construct a full dataset with the real column names\n",
        "X_df = pd.DataFrame(X_preprocessed, columns=feature_names)\n",
        "y_series = pd.Series(y, index=X_df.index, name=\"median_house_value\")\n",
        "X_df[\"median_house_value\"] = y_series  #Add the target as the final column\n",
        "\n",
        "# Save to MyDrive\n",
        "X_df.to_csv(\"/content/drive/MyDrive/house2_prices_preprocessed.csv\", index=False)"
      ],
      "metadata": {
        "id": "92qYqE9FT818"
      },
      "execution_count": 7,
      "outputs": []
    },
    {
      "cell_type": "code",
      "source": [
        "print(X_df)"
      ],
      "metadata": {
        "colab": {
          "base_uri": "https://localhost:8080/"
        },
        "id": "KYuYKg-yVmhL",
        "outputId": "3a7a9f0e-35a0-4bd6-c3dc-e1c83c9bdfea"
      },
      "execution_count": 9,
      "outputs": [
        {
          "output_type": "stream",
          "name": "stdout",
          "text": [
            "       longitude  latitude  housing_median_age  total_rooms  total_bedrooms  \\\n",
            "0      -1.327835  1.052548            0.982143    -1.117285       -1.309916   \n",
            "1      -1.322844  1.043185           -0.607019     2.329936        2.128690   \n",
            "2      -1.332827  1.038503            1.856182    -0.697327       -1.095223   \n",
            "3      -1.337818  1.038503            1.856182    -0.835405       -0.936843   \n",
            "4      -1.337818  1.038503            1.856182    -0.582857       -0.778463   \n",
            "...          ...       ...                 ...          ...             ...   \n",
            "20635  -0.758826  1.801647           -0.289187    -0.555671       -0.447624   \n",
            "20636  -0.818722  1.806329           -0.845393    -1.248209       -1.236005   \n",
            "20637  -0.823713  1.778237           -0.924851    -0.134281       -0.056954   \n",
            "20638  -0.873626  1.778237           -0.845393    -0.416162       -0.324440   \n",
            "20639  -0.833696  1.750146           -1.004309     0.245613        0.404108   \n",
            "\n",
            "       population  households  median_income  ocean_proximity_<1H OCEAN  \\\n",
            "0       -1.325821   -1.291972       2.541006                        0.0   \n",
            "1        1.389936    2.348314       2.541006                        0.0   \n",
            "2       -1.098528   -1.099883       2.085156                        0.0   \n",
            "3       -1.017539   -0.941691       1.111288                        0.0   \n",
            "4       -1.008395   -0.791033       0.027262                        0.0   \n",
            "...           ...         ...            ...                        ...   \n",
            "20635   -0.642637   -0.523614      -1.351765                        0.0   \n",
            "20636   -1.281408   -1.337170      -0.750601                        0.0   \n",
            "20637   -0.431019   -0.135668      -1.267488                        0.0   \n",
            "20638   -0.778490   -0.452051      -1.166620                        0.0   \n",
            "20639    0.065368    0.229678      -0.852072                        0.0   \n",
            "\n",
            "       ocean_proximity_INLAND  ocean_proximity_ISLAND  \\\n",
            "0                         0.0                     0.0   \n",
            "1                         0.0                     0.0   \n",
            "2                         0.0                     0.0   \n",
            "3                         0.0                     0.0   \n",
            "4                         0.0                     0.0   \n",
            "...                       ...                     ...   \n",
            "20635                     1.0                     0.0   \n",
            "20636                     1.0                     0.0   \n",
            "20637                     1.0                     0.0   \n",
            "20638                     1.0                     0.0   \n",
            "20639                     1.0                     0.0   \n",
            "\n",
            "       ocean_proximity_NEAR BAY  ocean_proximity_NEAR OCEAN  \\\n",
            "0                           1.0                         0.0   \n",
            "1                           1.0                         0.0   \n",
            "2                           1.0                         0.0   \n",
            "3                           1.0                         0.0   \n",
            "4                           1.0                         0.0   \n",
            "...                         ...                         ...   \n",
            "20635                       0.0                         0.0   \n",
            "20636                       0.0                         0.0   \n",
            "20637                       0.0                         0.0   \n",
            "20638                       0.0                         0.0   \n",
            "20639                       0.0                         0.0   \n",
            "\n",
            "       median_house_value  \n",
            "0                452600.0  \n",
            "1                358500.0  \n",
            "2                352100.0  \n",
            "3                341300.0  \n",
            "4                342200.0  \n",
            "...                   ...  \n",
            "20635             78100.0  \n",
            "20636             77100.0  \n",
            "20637             92300.0  \n",
            "20638             84700.0  \n",
            "20639             89400.0  \n",
            "\n",
            "[20640 rows x 14 columns]\n"
          ]
        }
      ]
    }
  ]
}